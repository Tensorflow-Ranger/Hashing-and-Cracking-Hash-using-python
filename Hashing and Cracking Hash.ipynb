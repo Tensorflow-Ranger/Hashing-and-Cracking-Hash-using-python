{
 "cells": [
  {
   "cell_type": "code",
   "execution_count": 8,
   "metadata": {},
   "outputs": [
    {
     "name": "stdout",
     "output_type": "stream",
     "text": [
      "Enter 0 for Hashing \n",
      " 1 for hash cracking0\n",
      " What do you want to hash?hu\n",
      "Enter md5 for md5 hashing \n",
      " Enter sha1 for sha1 hashing \n",
      " Enter sha224 for sha224 hashing \n",
      " Enter sha256 for sha 256 hashing \n",
      " Enter sha384 for sha384 hashing \n",
      " Enter sha512 for sha512 hashingsha224\n",
      "a8324c272cf9725f34da6b849f9c7b83ce5604b039b895143124ec25\n"
     ]
    }
   ],
   "source": [
    "import hashlib\n",
    "from IPython.display import clear_output\n",
    "\n",
    "def hashing(input_,type_):\n",
    "    result = \"\"\n",
    "    if type_ in \"md5\":\n",
    "        result = hashlib.md5(input_.encode()).hexdigest()\n",
    "        print(result)\n",
    "    elif type_ in \"sha1\":\n",
    "        result = hashlib.sha1(input_.encode()).hexdigest()\n",
    "        print(result)\n",
    "    elif type_ in \"sha224\":\n",
    "        result = hashlib.sha224(input_.encode()).hexdigest()\n",
    "        print(result)\n",
    "    elif type_ in \"sha256\":\n",
    "        result = hashlib.sha256(input_.encode()).hexdigest()\n",
    "        print(result)\n",
    "    elif type_ in \"sha384\":\n",
    "        result = hashlib.sha384(input_.encode()).hexdigest()\n",
    "        print(result)\n",
    "    elif type_ in \"sha512\":\n",
    "        result = hashlib.sha512(input_.encode()).hexdigest()\n",
    "        print(result)\n",
    "    else:\n",
    "        print(\" t\")\n",
    "    \n",
    "wordlist = [\"HI\",\"hi\",\"bye\",\"goodbye\"]\n",
    "\n",
    "def hash_cracking(hash_value,wordlist):\n",
    "    for each in wordlist:\n",
    "        result_md5 = hashlib.md5(each.encode()).hexdigest()\n",
    "        result_sha1 = hashlib.sha1(each.encode()).hexdigest()\n",
    "        result_sha224 = hashlib.sha224(each.encode()).hexdigest()\n",
    "        result_sha256 = hashlib.sha256(each.encode()).hexdigest()\n",
    "        result_sha384 = hashlib.sha384(each.encode()).hexdigest()\n",
    "        result_sha512 = hashlib.sha512(each.encode()).hexdigest()\n",
    "        if result_md5 == hash_value:\n",
    "            print(\"Found key for\",hash_value,\":\",each)\n",
    "        \n",
    "        elif result_sha1 == hash_value:\n",
    "            print(\"Found key for\",hash_value,\":\",each)\n",
    "        \n",
    "        elif result_sha224 == hash_value:\n",
    "            print(\"Found key for\",hash_value,\":\",each)\n",
    "        \n",
    "        elif result_sha256 == hash_value:\n",
    "            print(\"Found key for\",hash_value,\":\",each)\n",
    "        \n",
    "        elif result_sha384 == hash_value:\n",
    "            print(\"Found key for\",hash_value,\":\",each)\n",
    "        \n",
    "        elif result_sha512 == hash_value:\n",
    "            print(\"Found key for\",hash_value,\":\",each)\n",
    "        \n",
    "\n",
    "op = input(\"Enter 0 for Hashing \\n 1 for hash cracking\")\n",
    "if int(op) == 0:\n",
    "    hash_a = input(\" What do you want to hash?\")\n",
    "    hash_type = input(\"Enter md5 for md5 hashing \\n Enter sha1 for sha1 hashing \\n Enter sha224 for sha224 hashing \\n Enter sha256 for sha 256 hashing \\n Enter sha384 for sha384 hashing \\n Enter sha512 for sha512 hashing\")\n",
    "    hashing(hash_a,hash_type)\n",
    "elif int(op) == 1:\n",
    "    hash_q = input(\"Enter the hash\")\n",
    "    hash_cracking(hash_q,wordlist)\n",
    "else:\n",
    "    print(\"Please input 0 or 1\")\n",
    "\n",
    "    "
   ]
  },
  {
   "cell_type": "code",
   "execution_count": null,
   "metadata": {},
   "outputs": [],
   "source": []
  },
  {
   "cell_type": "code",
   "execution_count": null,
   "metadata": {},
   "outputs": [],
   "source": []
  }
 ],
 "metadata": {
  "kernelspec": {
   "display_name": "Python 3",
   "language": "python",
   "name": "python3"
  },
  "language_info": {
   "codemirror_mode": {
    "name": "ipython",
    "version": 3
   },
   "file_extension": ".py",
   "mimetype": "text/x-python",
   "name": "python",
   "nbconvert_exporter": "python",
   "pygments_lexer": "ipython3",
   "version": "3.7.3"
  }
 },
 "nbformat": 4,
 "nbformat_minor": 2
}
